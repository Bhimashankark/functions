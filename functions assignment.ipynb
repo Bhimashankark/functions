{
 "cells": [
  {
   "cell_type": "markdown",
   "id": "e9870276-b4cb-4682-a947-da28c8b48458",
   "metadata": {},
   "source": [
    "Q1. Which keyword is used to create a function? Create a function to return a list of odd numbers in the\n",
    "range of 1 to 25."
   ]
  },
  {
   "cell_type": "markdown",
   "id": "1dca4296-cd29-416f-ab84-24d883456750",
   "metadata": {},
   "source": [
    "answer: def key word is used to create a function."
   ]
  },
  {
   "cell_type": "code",
   "execution_count": 6,
   "id": "be720f76-33fa-442a-943a-0d22ebcc0a9e",
   "metadata": {},
   "outputs": [],
   "source": [
    "def get_oddnumbers(l,m):\n",
    "    oddnumbers = []\n",
    "    for i in range(l ,m+1):\n",
    "        if i % 2 != 0:\n",
    "            oddnumbers.append(i)\n",
    "    return oddnumbers"
   ]
  },
  {
   "cell_type": "code",
   "execution_count": 19,
   "id": "0f2c84e4-60b4-4121-92b7-c5da87b867c6",
   "metadata": {},
   "outputs": [
    {
     "data": {
      "text/plain": [
       "[1, 3, 5, 7, 9, 11, 13, 15, 17, 19, 21, 23, 25]"
      ]
     },
     "execution_count": 19,
     "metadata": {},
     "output_type": "execute_result"
    }
   ],
   "source": [
    "get_oddnumbers(1,25)"
   ]
  },
  {
   "cell_type": "markdown",
   "id": "053d7846-eb77-4a89-9ef3-63ed5b80820a",
   "metadata": {},
   "source": [
    "Q2. Why *args and **kwargs is used in some functions? Create a function each for *args and **kwargs to\n",
    "demonstrate their use."
   ]
  },
  {
   "cell_type": "markdown",
   "id": "4b5cff73-524d-4346-b2b2-5e041d772b70",
   "metadata": {},
   "source": [
    "*args allows you to pass a variable number of arguments to a function , The arguments passed are packed into a tuple.\n",
    "**kwargs allows you to pass a variable number of keyworded arguments to a function, The arguments passed are packed into a dictionary."
   ]
  },
  {
   "cell_type": "code",
   "execution_count": 20,
   "id": "1d5250bf-0154-496c-9b67-74fb4d89a78a",
   "metadata": {},
   "outputs": [],
   "source": [
    "## function created with *args\n",
    "def print_args(*args):\n",
    "    return args"
   ]
  },
  {
   "cell_type": "code",
   "execution_count": 21,
   "id": "fb53a717-51d5-4ca2-9666-8ce826c30a07",
   "metadata": {},
   "outputs": [
    {
     "data": {
      "text/plain": [
       "(1, 2, 3, 4, ['ved', 'sat'])"
      ]
     },
     "execution_count": 21,
     "metadata": {},
     "output_type": "execute_result"
    }
   ],
   "source": [
    "print_args(1,2,3,4, ['ved','sat'])"
   ]
  },
  {
   "cell_type": "code",
   "execution_count": 33,
   "id": "eb363290-846d-4832-b060-00ae2b9d574a",
   "metadata": {},
   "outputs": [],
   "source": [
    "##function created with **kwargs\n",
    "def print_kwargs(**kwargs):\n",
    "    for keys, values in kwargs.items():\n",
    "        return  kwargs"
   ]
  },
  {
   "cell_type": "code",
   "execution_count": 34,
   "id": "60539416-e530-4316-bf32-5b85d26d5615",
   "metadata": {},
   "outputs": [
    {
     "data": {
      "text/plain": [
       "{'a': 20, 'b': 30, 'c': 19}"
      ]
     },
     "execution_count": 34,
     "metadata": {},
     "output_type": "execute_result"
    }
   ],
   "source": [
    "print_kwargs(a=20,b=30,c=19)"
   ]
  },
  {
   "cell_type": "markdown",
   "id": "384ca616-309e-42df-9ea2-e4de596f2c07",
   "metadata": {},
   "source": [
    "Q3.  What is an iterator in python? Name the method used to initialise the iterator object and the method\n",
    "used for iteration. Use these methods to print the first five elements of the given list [2, 4, 6, 8, 10, 12, 14, 16,\n",
    "18, 20]."
   ]
  },
  {
   "cell_type": "markdown",
   "id": "3b5dbdbe-8ccd-4be0-a3c2-99dd230037f7",
   "metadata": {},
   "source": [
    "answer : An iterator is an object that contains a countable number of values. An iterator is an object that can be iterated upon, meaning that you can traverse through all the values.which consist of the methods __iter__() and __next__() ."
   ]
  },
  {
   "cell_type": "code",
   "execution_count": 35,
   "id": "f66e6305-916c-441c-9bbe-014d5718c6d5",
   "metadata": {},
   "outputs": [
    {
     "name": "stdout",
     "output_type": "stream",
     "text": [
      "2\n",
      "4\n",
      "6\n",
      "8\n",
      "10\n"
     ]
    }
   ],
   "source": [
    "list=[2, 4, 6, 8, 10, 12, 14, 16,18, 20]\n",
    "iter=iter(list)\n",
    "\n",
    "for i in range(5):\n",
    "    print(next(iter))"
   ]
  },
  {
   "cell_type": "markdown",
   "id": "dfb01f03-9f8d-43e8-9e93-2a248dd5ce84",
   "metadata": {},
   "source": [
    "Q4.  What is a generator function in python? Why yield keyword is used? Give an example of a generator\n",
    "function."
   ]
  },
  {
   "cell_type": "markdown",
   "id": "a677e7a0-38af-46e3-bbe1-2488f5eb89c3",
   "metadata": {},
   "source": [
    "Answer : A generator function is a special type of function in Python that returns an iterator object. Instead of using the return keyword, a generator function uses the yield keyword to return values one by one, which can be iterated over.\n",
    "The yield keyword is used to return a value from the generator function and pause its execution until the next value is requested. This allows you to generate a sequence of values on-the-fly, instead of creating a list in memory and returning it all at once."
   ]
  },
  {
   "cell_type": "code",
   "execution_count": 44,
   "id": "bf16dce8-3170-45c3-b7bf-76fba82c0b87",
   "metadata": {},
   "outputs": [],
   "source": [
    "## fibnocci series using generator function\n",
    "def fib(n):\n",
    "    a,b=0,1\n",
    "    for i in range(n):\n",
    "        yield a\n",
    "        a,b = b,a+b\n",
    "        \n",
    "    "
   ]
  },
  {
   "cell_type": "code",
   "execution_count": 41,
   "id": "ea64627f-231b-443f-b129-350e142be4fa",
   "metadata": {},
   "outputs": [
    {
     "data": {
      "text/plain": [
       "<generator object fib at 0x7fd7041758c0>"
      ]
     },
     "execution_count": 41,
     "metadata": {},
     "output_type": "execute_result"
    }
   ],
   "source": [
    "fib(10)"
   ]
  },
  {
   "cell_type": "code",
   "execution_count": 45,
   "id": "377ef5b7-1f36-4cc5-9c3b-43af34d6bf8c",
   "metadata": {},
   "outputs": [
    {
     "name": "stdout",
     "output_type": "stream",
     "text": [
      "0\n",
      "1\n",
      "1\n",
      "2\n",
      "3\n",
      "5\n",
      "8\n",
      "13\n",
      "21\n",
      "34\n"
     ]
    }
   ],
   "source": [
    "for i in fib(10):\n",
    "    print(i)\n",
    "        "
   ]
  },
  {
   "cell_type": "markdown",
   "id": "e749c353-ebf3-4cb7-b9cb-ba60bab13f04",
   "metadata": {},
   "source": [
    "Q5. Create a generator function for prime numbers less than 1000. Use the next() method to print the\n",
    "first 20 prime numbers."
   ]
  },
  {
   "cell_type": "code",
   "execution_count": 49,
   "id": "2600cae9-0eb0-4d1f-bb0d-85320f7ba6ff",
   "metadata": {},
   "outputs": [
    {
     "name": "stdout",
     "output_type": "stream",
     "text": [
      "2\n",
      "3\n",
      "5\n",
      "7\n",
      "11\n",
      "13\n",
      "17\n",
      "19\n",
      "23\n",
      "29\n",
      "31\n",
      "37\n",
      "41\n",
      "43\n",
      "47\n",
      "53\n",
      "59\n",
      "61\n",
      "67\n",
      "71\n"
     ]
    }
   ],
   "source": [
    "def prime_numbers():\n",
    "    prime = []\n",
    "    for i in range(2,1000):\n",
    "        for j in prime:\n",
    "            if  i % j == 0:\n",
    "                break\n",
    "        else:\n",
    "                prime.append(i)\n",
    "                yield i\n",
    "prime = prime_numbers()\n",
    "for i in range(20):\n",
    "    print(next(prime))\n",
    "                \n",
    "            "
   ]
  },
  {
   "cell_type": "code",
   "execution_count": null,
   "id": "3f7930ff-1dbe-4a5c-8f16-54a3662138d6",
   "metadata": {},
   "outputs": [],
   "source": []
  }
 ],
 "metadata": {
  "kernelspec": {
   "display_name": "Python 3 (ipykernel)",
   "language": "python",
   "name": "python3"
  },
  "language_info": {
   "codemirror_mode": {
    "name": "ipython",
    "version": 3
   },
   "file_extension": ".py",
   "mimetype": "text/x-python",
   "name": "python",
   "nbconvert_exporter": "python",
   "pygments_lexer": "ipython3",
   "version": "3.10.8"
  }
 },
 "nbformat": 4,
 "nbformat_minor": 5
}
